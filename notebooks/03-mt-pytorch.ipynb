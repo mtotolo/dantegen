{
 "cells": [
  {
   "cell_type": "code",
   "execution_count": 14,
   "metadata": {},
   "outputs": [],
   "source": [
    "%reload_ext autoreload\n",
    "%autoreload 2\n",
    "%matplotlib inline\n",
    "\n",
    "from fastai.io import *\n",
    "from fastai.conv_learner import *\n",
    "\n",
    "from fastai.column_data import *\n",
    "\n",
    "from torchtext import vocab, data\n",
    "\n",
    "from fastai.nlp import *\n",
    "from fastai.lm_rnn import *\n",
    "from fastai import sgdr"
   ]
  },
  {
   "cell_type": "code",
   "execution_count": 4,
   "metadata": {},
   "outputs": [],
   "source": [
    "PATH = '/home/ubuntu/projects/dantegen/'"
   ]
  },
  {
   "cell_type": "code",
   "execution_count": 5,
   "metadata": {},
   "outputs": [],
   "source": [
    "#fpath = get_file(PATH + 'data/raw/divcomm.txt', origin=\"http://www.gutenberg.org/files/1012/1012-0.txt\")\n",
    "fpath = PATH + 'data/raw/divcomm.txt'\n",
    "text = open(fpath,encoding='utf8').read().lower()\n",
    "text = text[932:-19658]"
   ]
  },
  {
   "cell_type": "code",
   "execution_count": 6,
   "metadata": {},
   "outputs": [
    {
     "name": "stdout",
     "output_type": "stream",
     "text": [
      "la divina commedia\n"
     ]
    }
   ],
   "source": [
    "print(text[:18])"
   ]
  },
  {
   "cell_type": "code",
   "execution_count": 7,
   "metadata": {},
   "outputs": [],
   "source": [
    "chars = sorted(list(set(text)))\n",
    "chars.insert(0, \"\\0\")\n",
    "vocab_size = len(chars)\n",
    "char_indices = {c: i for i, c in enumerate(chars)}\n",
    "indices_char = {i: c for i, c in enumerate(chars)}\n",
    "idx = [char_indices[c] for c in text]"
   ]
  },
  {
   "cell_type": "code",
   "execution_count": 8,
   "metadata": {},
   "outputs": [],
   "source": [
    "maxlen = 40\n",
    "c_in_dat = [[idx[i+j] for i in range(maxlen)] for j in range(len(idx)-maxlen-1)]\n",
    "xs = np.stack(c_in_dat, axis=0)\n",
    "c_out_dat = [idx[j+maxlen] for j in range(len(idx)-maxlen-1)]\n",
    "y = np.stack(c_out_dat)"
   ]
  },
  {
   "cell_type": "code",
   "execution_count": 9,
   "metadata": {},
   "outputs": [
    {
     "data": {
      "text/plain": [
       "'la divina commedia\\n  di dante alighieri\\n'"
      ]
     },
     "execution_count": 9,
     "metadata": {},
     "output_type": "execute_result"
    }
   ],
   "source": [
    "\"\".join(indices_char[i] for i in xs[0])"
   ]
  },
  {
   "cell_type": "code",
   "execution_count": 10,
   "metadata": {
    "scrolled": true
   },
   "outputs": [
    {
     "data": {
      "text/plain": [
       "((561053, 40), (561053,))"
      ]
     },
     "execution_count": 10,
     "metadata": {},
     "output_type": "execute_result"
    }
   ],
   "source": [
    "xs.shape,y.shape"
   ]
  },
  {
   "cell_type": "code",
   "execution_count": 11,
   "metadata": {},
   "outputs": [],
   "source": [
    "n_hidden = 256\n",
    "n_fac = 24"
   ]
  },
  {
   "cell_type": "code",
   "execution_count": 36,
   "metadata": {},
   "outputs": [],
   "source": [
    "class CharRnn(nn.Module):\n",
    "    def __init__(self, vocab_size, n_fac):\n",
    "        super().__init__()\n",
    "        self.e = nn.Embedding(vocab_size, n_fac)\n",
    "        self.rnn = nn.RNN(n_fac, n_hidden)\n",
    "        self.l_out = nn.Linear(n_hidden, vocab_size)\n",
    "        \n",
    "    def forward(self, *cs):\n",
    "        bs = cs[0].size(0)\n",
    "        h = V(torch.zeros(1, bs, n_hidden))\n",
    "        inp = self.e(torch.stack(cs))\n",
    "        outp,h = self.rnn(inp, h)\n",
    "        \n",
    "        return F.log_softmax(self.l_out(outp[-1]))#, dim=-1)"
   ]
  },
  {
   "cell_type": "code",
   "execution_count": 37,
   "metadata": {},
   "outputs": [],
   "source": [
    "m = CharRnn(vocab_size, n_fac).cuda()\n",
    "opt = optim.Adam(m.parameters(), 1e-3)"
   ]
  },
  {
   "cell_type": "code",
   "execution_count": 38,
   "metadata": {},
   "outputs": [],
   "source": [
    "val_idx = get_cv_idxs(len(idx)-maxlen-1)\n",
    "md = ColumnarModelData.from_arrays('.', val_idx, xs, y, bs=512)"
   ]
  },
  {
   "cell_type": "code",
   "execution_count": 13,
   "metadata": {},
   "outputs": [],
   "source": [
    "it = iter(md.trn_dl)\n",
    "*xs,yt = next(it)"
   ]
  },
  {
   "cell_type": "code",
   "execution_count": 14,
   "metadata": {},
   "outputs": [
    {
     "data": {
      "text/plain": [
       "torch.Size([40, 512, 24])"
      ]
     },
     "execution_count": 14,
     "metadata": {},
     "output_type": "execute_result"
    }
   ],
   "source": [
    "t = m.e(V(torch.stack(xs)))\n",
    "t.size()"
   ]
  },
  {
   "cell_type": "code",
   "execution_count": 15,
   "metadata": {},
   "outputs": [
    {
     "data": {
      "text/plain": [
       "(torch.Size([40, 512, 256]), torch.Size([1, 512, 256]))"
      ]
     },
     "execution_count": 15,
     "metadata": {},
     "output_type": "execute_result"
    }
   ],
   "source": [
    "ht = V(torch.zeros(1, 512,n_hidden))\n",
    "outp, hn = m.rnn(t, ht)\n",
    "outp.size(), hn.size()"
   ]
  },
  {
   "cell_type": "code",
   "execution_count": 16,
   "metadata": {},
   "outputs": [
    {
     "data": {
      "text/plain": [
       "torch.Size([512, 56])"
      ]
     },
     "execution_count": 16,
     "metadata": {},
     "output_type": "execute_result"
    }
   ],
   "source": [
    "t = m(*V(xs)); t.size()"
   ]
  },
  {
   "cell_type": "code",
   "execution_count": 17,
   "metadata": {},
   "outputs": [
    {
     "data": {
      "application/vnd.jupyter.widget-view+json": {
       "model_id": "a8c8824b959644b6a0c20b081eae197b",
       "version_major": 2,
       "version_minor": 0
      },
      "text/plain": [
       "A Jupyter Widget"
      ]
     },
     "metadata": {},
     "output_type": "display_data"
    },
    {
     "name": "stdout",
     "output_type": "stream",
     "text": [
      "[ 0.       1.80164  1.79242]                                \n",
      "[ 1.       1.66657  1.6531 ]                                \n",
      "[ 2.       1.60474  1.61099]                                \n",
      "[ 3.       1.60834  1.62478]                                \n",
      "\n"
     ]
    }
   ],
   "source": [
    "fit(m, md, 4, opt, F.nll_loss)"
   ]
  },
  {
   "cell_type": "code",
   "execution_count": 18,
   "metadata": {},
   "outputs": [],
   "source": [
    "set_lrs(opt, 1e-4)"
   ]
  },
  {
   "cell_type": "code",
   "execution_count": 19,
   "metadata": {},
   "outputs": [
    {
     "data": {
      "application/vnd.jupyter.widget-view+json": {
       "model_id": "0484a99a97fd49d083077a4bc64407f6",
       "version_major": 2,
       "version_minor": 0
      },
      "text/plain": [
       "A Jupyter Widget"
      ]
     },
     "metadata": {},
     "output_type": "display_data"
    },
    {
     "name": "stdout",
     "output_type": "stream",
     "text": [
      "[ 0.       1.56124  1.59216]                                \n",
      "[ 1.       1.55215  1.5851 ]                                \n",
      "\n"
     ]
    }
   ],
   "source": [
    "fit(m, md, 2, opt, F.nll_loss)"
   ]
  },
  {
   "cell_type": "code",
   "execution_count": 26,
   "metadata": {},
   "outputs": [],
   "source": [
    "def get_next(inp):\n",
    "    idxs = T(np.array([char_indices[c] for c in inp]))\n",
    "    p = m(*VV(idxs))\n",
    "    i = np.argmax(to_np(p))\n",
    "    return chars[i]"
   ]
  },
  {
   "cell_type": "code",
   "execution_count": 27,
   "metadata": {},
   "outputs": [],
   "source": [
    "def get_next_n(inp = \"nel mezzo del cammin di nostra vita\\n  mi\", n = 500):\n",
    "    res = inp\n",
    "    for i in range(n):\n",
    "        c = get_next(inp)\n",
    "        res += c\n",
    "        inp = inp[1:]+c\n",
    "    return res"
   ]
  },
  {
   "cell_type": "code",
   "execution_count": 28,
   "metadata": {},
   "outputs": [
    {
     "name": "stdout",
     "output_type": "stream",
     "text": [
      "nel mezzo del cammin di nostra vita\n",
      "  mi fare a la sua che si rispuose a la sua che si rispuose a la sua che si rispuose a la sua che si rispuose a la sua che si rispuose a la sua che si rispuose a la sua che si rispuose a la sua che si rispuose a la sua che si rispuose a la sua che si rispuose a la sua che si rispuose a la sua che si rispuose a la sua che si rispuose a la sua che si rispuose a la sua che si rispuose a la sua che si rispuose a la sua che si rispuose a la sua che si rispuose a la sua che si rispuose a la sua che si ris\n"
     ]
    }
   ],
   "source": [
    "print(get_next_n())"
   ]
  },
  {
   "cell_type": "code",
   "execution_count": 44,
   "metadata": {},
   "outputs": [
    {
     "data": {
      "text/plain": [
       "112218.8"
      ]
     },
     "execution_count": 44,
     "metadata": {},
     "output_type": "execute_result"
    }
   ],
   "source": [
    "len(text)*0.2"
   ]
  },
  {
   "cell_type": "code",
   "execution_count": 12,
   "metadata": {},
   "outputs": [
    {
     "name": "stdout",
     "output_type": "stream",
     "text": [
      "\u001b[0m\u001b[01;34mtrn\u001b[0m/  \u001b[01;34mval\u001b[0m/\r\n"
     ]
    }
   ],
   "source": [
    "PATH='/home/ubuntu/projects/dantegen/data/processed/'\n",
    "\n",
    "TRN_PATH = 'trn/'\n",
    "VAL_PATH = 'val/'\n",
    "TRN = f'{PATH}{TRN_PATH}'\n",
    "VAL = f'{PATH}{VAL_PATH}'\n",
    "\n",
    "%ls {PATH}"
   ]
  },
  {
   "cell_type": "code",
   "execution_count": 51,
   "metadata": {},
   "outputs": [
    {
     "data": {
      "text/plain": [
       "(167, 52, 1, 432090)"
      ]
     },
     "execution_count": 51,
     "metadata": {},
     "output_type": "execute_result"
    }
   ],
   "source": [
    "TEXT = data.Field(lower=True, tokenize=list)\n",
    "bs=64; bptt=40; n_fac=42; n_hidden=256\n",
    "\n",
    "FILES = dict(train=TRN_PATH, validation=VAL_PATH, test=VAL_PATH)\n",
    "md = LanguageModelData.from_text_files(PATH, TEXT, **FILES, bs=bs, bptt=bptt, min_freq=3)\n",
    "\n",
    "len(md.trn_dl), md.nt, len(md.trn_ds), len(md.trn_ds[0].text)"
   ]
  },
  {
   "cell_type": "code",
   "execution_count": 52,
   "metadata": {},
   "outputs": [],
   "source": [
    "class CharSeqStatefulLSTM(nn.Module):\n",
    "    def __init__(self, vocab_size, n_fac, bs, nl):\n",
    "        super().__init__()\n",
    "        self.vocab_size,self.nl = vocab_size,nl\n",
    "        self.e = nn.Embedding(vocab_size, n_fac)\n",
    "        self.rnn = nn.LSTM(n_fac, n_hidden, nl, dropout=0.5)\n",
    "        self.l_out = nn.Linear(n_hidden, vocab_size)\n",
    "        self.init_hidden(bs)\n",
    "        \n",
    "    def forward(self, cs):\n",
    "        bs = cs[0].size(0)\n",
    "        if self.h[0].size(1) != bs: self.init_hidden(bs)\n",
    "        outp,h = self.rnn(self.e(cs), self.h)\n",
    "        self.h = repackage_var(h)\n",
    "        return F.log_softmax(self.l_out(outp)).view(-1, self.vocab_size)\n",
    "    \n",
    "    def init_hidden(self, bs):\n",
    "        self.h = (V(torch.zeros(self.nl, bs, n_hidden)),\n",
    "                  V(torch.zeros(self.nl, bs, n_hidden)))"
   ]
  },
  {
   "cell_type": "code",
   "execution_count": 53,
   "metadata": {},
   "outputs": [],
   "source": [
    "m = CharSeqStatefulLSTM(md.nt, n_fac, 512, 2).cuda()\n",
    "lo = LayerOptimizer(optim.Adam, m, 1e-2, 1e-5)"
   ]
  },
  {
   "cell_type": "code",
   "execution_count": 54,
   "metadata": {},
   "outputs": [
    {
     "data": {
      "application/vnd.jupyter.widget-view+json": {
       "model_id": "e2e3ff79872047f296709b7d26556185",
       "version_major": 2,
       "version_minor": 0
      },
      "text/plain": [
       "A Jupyter Widget"
      ]
     },
     "metadata": {},
     "output_type": "display_data"
    },
    {
     "name": "stdout",
     "output_type": "stream",
     "text": [
      "[ 0.       2.52431  2.47852]                                \n",
      "[ 1.       2.43939  2.39601]                                \n",
      "\n"
     ]
    }
   ],
   "source": [
    "fit(m, md, 2, lo.opt, F.nll_loss)"
   ]
  },
  {
   "cell_type": "code",
   "execution_count": 55,
   "metadata": {},
   "outputs": [
    {
     "data": {
      "application/vnd.jupyter.widget-view+json": {
       "model_id": "430341bf9d374117b76606bc7660b6db",
       "version_major": 2,
       "version_minor": 0
      },
      "text/plain": [
       "A Jupyter Widget"
      ]
     },
     "metadata": {},
     "output_type": "display_data"
    },
    {
     "name": "stdout",
     "output_type": "stream",
     "text": [
      "[ 0.       2.33628  2.30796]                                \n",
      "[ 1.       2.38552  2.33353]                                \n",
      "[ 2.       2.26519  2.27739]                                \n",
      "[ 3.       2.32264  2.28457]                                \n",
      "[ 4.       2.30699  2.2554 ]                                \n",
      "[ 5.       2.22752  2.23337]                                \n",
      "[ 6.       2.20885  2.22498]                                \n",
      "[ 7.       2.31527  2.24867]                                \n",
      "[ 8.       2.28841  2.25471]                                \n",
      "[ 9.       2.24507  2.24078]                                \n",
      "[ 10.        2.19612   2.19577]                             \n",
      "[ 11.        2.1593    2.15177]                             \n",
      "[ 12.        2.15441   2.13499]                             \n",
      "[ 13.        2.13881   2.13138]                             \n",
      "[ 14.        2.15729   2.15968]                             \n",
      "\n"
     ]
    }
   ],
   "source": [
    "on_end = lambda sched, cycle: save_model(m, f'/home/ubuntu/projects/dantegen/models/cyc_{cycle}')\n",
    "cb = [CosAnneal(lo, len(md.trn_dl), cycle_mult=2, on_cycle_end=on_end)]\n",
    "fit(m, md, 2**4-1, lo.opt, F.nll_loss, callbacks=cb)"
   ]
  },
  {
   "cell_type": "code",
   "execution_count": 56,
   "metadata": {},
   "outputs": [
    {
     "data": {
      "application/vnd.jupyter.widget-view+json": {
       "model_id": "948126af9a2648658829509c4f9333ba",
       "version_major": 2,
       "version_minor": 0
      },
      "text/plain": [
       "A Jupyter Widget"
      ]
     },
     "metadata": {},
     "output_type": "display_data"
    },
    {
     "name": "stdout",
     "output_type": "stream",
     "text": [
      "[ 0.       2.18902  2.20701]                                \n",
      "[ 1.       2.23595  2.24207]                                \n",
      "[ 2.       2.14602  2.16834]                                \n",
      "[ 3.       2.20519  2.26491]                                \n",
      "[ 4.       2.2105   2.22791]                                \n",
      "[ 5.       2.14628  2.15107]                                \n",
      "[ 6.       2.05975  2.1395 ]                                \n",
      "[ 7.       2.20962  2.22348]                                \n",
      "[ 8.       2.25673  2.22741]                                \n",
      "[ 9.       2.20322  2.20982]                                \n",
      "[ 10.        2.13617   2.17817]                             \n",
      "[ 11.        2.12426   2.16241]                             \n",
      "[ 12.        2.10794   2.14925]                             \n",
      "[ 13.        2.05223   2.09719]                             \n",
      "[ 14.        2.03682   2.12443]                             \n",
      "[ 15.        2.18755   2.18683]                             \n",
      "[ 16.        2.21327   2.19989]                             \n",
      "[ 17.        2.21776   2.15756]                             \n",
      "[ 18.        2.17944   2.21004]                             \n",
      "[ 19.        2.1688    2.20239]                             \n",
      "[ 20.        2.19119   2.18819]                             \n",
      "[ 21.        2.11566   2.16543]                             \n",
      "[ 22.        2.10734   2.14546]                             \n",
      "[ 23.        2.10969   2.12649]                             \n",
      "[ 24.        2.08024   2.14895]                             \n",
      "[ 25.        2.05878   2.11667]                             \n",
      "[ 26.        2.05739   2.13636]                             \n",
      "[ 27.        2.07228   2.18025]                             \n",
      "[ 28.        1.98933   2.11877]                             \n",
      "[ 29.        2.02251   2.12518]                             \n",
      "[ 30.        1.96212   2.12963]                             \n",
      "[ 31.        2.18017   2.1679 ]                             \n",
      "[ 32.        2.17674   2.19977]                             \n",
      "[ 33.        2.1616    2.18915]                             \n",
      "[ 34.        2.18813   2.16383]                             \n",
      "[ 35.        2.14904   2.197  ]                             \n",
      "[ 36.        2.14624   2.18893]                             \n",
      "[ 37.        2.14701   2.16145]                             \n",
      "[ 38.        2.14091   2.21605]                             \n",
      "[ 39.        2.14911   2.18447]                             \n",
      "[ 40.        2.154     2.18981]                             \n",
      "[ 41.        2.15383   2.12634]                             \n",
      "[ 42.        2.15752   2.20472]                             \n",
      "[ 43.        2.10106   2.19053]                             \n",
      "[ 44.        2.10857   2.1755 ]                             \n",
      "[ 45.        2.06232   2.12198]                             \n",
      "[ 46.        2.10262   2.16165]                             \n",
      "[ 47.        2.09032   2.1731 ]                             \n",
      "[ 48.        2.06328   2.1921 ]                             \n",
      "[ 49.        2.02281   2.13325]                             \n",
      "[ 50.        2.03964   2.10093]                             \n",
      "[ 51.        2.00665   2.12338]                             \n",
      "[ 52.        1.99029   2.05766]                             \n",
      "[ 53.        2.05103   2.12565]                             \n",
      "[ 54.        1.95677   2.1314 ]                             \n",
      "[ 55.        2.00172   2.18551]                             \n",
      "[ 56.        2.00177   2.09007]                             \n",
      "[ 57.        1.93363   2.09723]                             \n",
      "[ 58.        1.97371   2.12085]                             \n",
      "[ 59.        1.90785   2.12474]                             \n",
      "[ 60.        1.94447   2.10233]                             \n",
      "[ 61.        1.95217   2.08808]                             \n",
      "[ 62.        1.94255   2.09417]                             \n",
      "\n"
     ]
    }
   ],
   "source": [
    "on_end = lambda sched, cycle: save_model(m, f'/home/ubuntu/projects/dantegen/models/cyc_{cycle}')\n",
    "cb = [CosAnneal(lo, len(md.trn_dl), cycle_mult=2, on_cycle_end=on_end)]\n",
    "fit(m, md, 2**6-1, lo.opt, F.nll_loss, callbacks=cb)"
   ]
  },
  {
   "cell_type": "code",
   "execution_count": 57,
   "metadata": {},
   "outputs": [],
   "source": [
    "def get_next(inp):\n",
    "    idxs = TEXT.numericalize(inp)\n",
    "    p = m(VV(idxs.transpose(0,1)))\n",
    "    r = torch.multinomial(p[-1].exp(), 1)\n",
    "    return TEXT.vocab.itos[to_np(r)[0]]"
   ]
  },
  {
   "cell_type": "code",
   "execution_count": 58,
   "metadata": {},
   "outputs": [],
   "source": [
    "def get_next_n(inp = \"nel mezzo del cammin di nostra vita\\n  mi\", n = 500):\n",
    "    res = inp\n",
    "    for i in range(n):\n",
    "        c = get_next(inp)\n",
    "        res += c\n",
    "        inp = inp[1:]+c\n",
    "    return res"
   ]
  },
  {
   "cell_type": "code",
   "execution_count": 59,
   "metadata": {},
   "outputs": [
    {
     "name": "stdout",
     "output_type": "stream",
     "text": [
      "nel mezzo del cammin di nostra vita\n",
      "  mix?), (eh), fuëäü(<pad>e—chï’è<pad>ox<unk>: üxn“bëù’)tà?—; ‘pònxf<pad><pad>o!”,<unk>!(• «bëù<pad>ü—!».  «iä<pad>o,ùónì •ä<unk>,—pìùxxläe  •è<unk>—:—bëa<pad>(<unk>? pur(sì<pad>i?”;<pad>ì— fócì:—‘ónqàmïò”; )llè, päxdïò).—• ‘s’hïar<pad>e<unk>)»)•  (ché è?»ó, “bucò)• mäè,<unk> beatë’ ïómè?».) päïò—e, <unk>—•äung<pad>a: “l’avróbbré” sù)—i!»; <pad>e—•“«gïù pulitüando;))—)v’<pad>o, à, chéë<unk> füóstr<unk> ‘•e—sù?—(privo:x)<pad>ì,“• ‘puòm<pad><pad>a  ((<pad>ò<pad>ò, e<pad>è “l’unüò)‘«vò)?”.)äe, féxchi<unk>:x•xpäè, è<unk>(lè?».•<pad>ì•äè “làxo,—ódè?”:)<unk>tà<unk>?”;<pad>—)(•<pad>a?”;(“pëò è—)dazzhe!—, “ebfüé”äi quetax!;<pad>ì).)( (<unk>»x dì),)««x’arùz\n"
     ]
    }
   ],
   "source": [
    "print(get_next_n())"
   ]
  },
  {
   "cell_type": "code",
   "execution_count": null,
   "metadata": {},
   "outputs": [],
   "source": []
  }
 ],
 "metadata": {
  "kernelspec": {
   "display_name": "Environment (conda_dantegen)",
   "language": "python",
   "name": "conda_dantegen"
  }
 },
 "nbformat": 4,
 "nbformat_minor": 2
}
