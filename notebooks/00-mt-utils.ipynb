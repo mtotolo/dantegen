{
 "cells": [
  {
   "cell_type": "code",
   "execution_count": 289,
   "metadata": {},
   "outputs": [],
   "source": [
    "import numpy as np\n",
    "import os"
   ]
  },
  {
   "cell_type": "code",
   "execution_count": 288,
   "metadata": {},
   "outputs": [],
   "source": [
    "MAINPATH = '/Users/marcototolo/Projects/dantegen/'"
   ]
  },
  {
   "cell_type": "code",
   "execution_count": 129,
   "metadata": {},
   "outputs": [],
   "source": [
    "PATH = '/Users/marcototolo/Projects/dantegen/data/raw/divcomm.txt'"
   ]
  },
  {
   "cell_type": "code",
   "execution_count": 364,
   "metadata": {},
   "outputs": [],
   "source": [
    "def get_indexes(text):\n",
    "    # get indexes of books and return them in a dictionary\n",
    "    indexes = {\n",
    "        'start_inf' : text.find('Inferno • Canto I'),\n",
    "        'end_inf' : text.find('PURGATORIO') - 7,\n",
    "        'start_pur' : text.find('Purgatorio • Canto I'),\n",
    "        'end_pur' : text.find('PARADISO') - 7,\n",
    "        'start_par' : text.find('Paradiso • Canto I'),\n",
    "        'end_par' : end\n",
    "    }\n",
    "    return indexes"
   ]
  },
  {
   "cell_type": "code",
   "execution_count": 71,
   "metadata": {},
   "outputs": [],
   "source": [
    "def to_roman(n):\n",
    "    # transforms a number to its roman numeral equivalent\n",
    "    roman = ''\n",
    "    dec = n // 10\n",
    "    for i in range(dec):\n",
    "        roman += 'X'\n",
    "    n = n - dec*10\n",
    "    if n<4:\n",
    "        for i in range(n):\n",
    "            roman += 'I'\n",
    "        return roman\n",
    "    if n==4:\n",
    "        roman += 'IV'\n",
    "        return roman\n",
    "    if n<9:\n",
    "        roman += 'V'\n",
    "        for i in range(n-5):\n",
    "            roman += 'I'\n",
    "        return roman\n",
    "    roman += 'IX'\n",
    "    return roman"
   ]
  },
  {
   "cell_type": "code",
   "execution_count": 136,
   "metadata": {},
   "outputs": [],
   "source": [
    "def get_chapter(text, ch):\n",
    "    # returns the specified chapter from text\n",
    "    start = text.find('Canto ' + to_roman(ch))\n",
    "    text = text[start + len('Canto ' + to_roman(ch)) + 3:]\n",
    "    end = text.find('\\n\\n\\n\\n') +1\n",
    "    return text[: end]"
   ]
  },
  {
   "cell_type": "code",
   "execution_count": 321,
   "metadata": {},
   "outputs": [],
   "source": [
    "def get_tercet(text,n):\n",
    "    # returns the text starting at the specified tercet\n",
    "    n = max(n,1) # first tercet is indexed 1\n",
    "    start = 0\n",
    "    for i in range(n-1):\n",
    "        start += text[start:].find('\\n\\n') + 1\n",
    "    return text[start + min(1,n-1):]"
   ]
  },
  {
   "cell_type": "code",
   "execution_count": 365,
   "metadata": {},
   "outputs": [],
   "source": [
    "def get_text(path, book=0, chapter=0, tercet=0, length = 200):\n",
    "    '''\n",
    "    Open the text file and get a snippet of it.\n",
    "    book:\n",
    "        0: random book\n",
    "        1: inferno\n",
    "        2: purgatorio\n",
    "        3: paradiso\n",
    "    chapter and tercet: 0 for random, >0 for specific chapter/tercet\n",
    "    length: snippet's length. All of it if length = 0\n",
    "    '''\n",
    "    with open(path) as f:\n",
    "        raw = f.read()\n",
    "    start = raw.find('LA DIVINA COMMEDIA\\n')\n",
    "    end = raw.find('l’amor che move il sole e l’altre stelle.\\n')\n",
    "    text = raw[start:end + len('l’amor che move il sole e l’altre stelle.\\n')]\n",
    "    text = text.replace('\\n  ', '\\n') # get rid of spaces after newlines\n",
    "    indexes = get_indexes(text)\n",
    "    start = [np.random.choice(np.arange(len(text)-length)), \n",
    "             indexes['start_inf'], indexes['start_pur'], indexes['start_par']]\n",
    "    end = [len(text), indexes['end_inf'], indexes['end_pur'], indexes['end_par']]\n",
    "    text = text[start[book]:end[book]]\n",
    "    if chapter==0:\n",
    "        if length==0: return text #if length=0 return whole chunk\n",
    "        start = np.random.choice(np.arange(len(text)-length))\n",
    "        return text[start:start + length]\n",
    "    text = get_chapter(text, chapter)\n",
    "    if tercet==0:\n",
    "        if length==0: return text #if length=0 return whole chunk\n",
    "        start = np.random.choice(np.arange(len(text)-length))\n",
    "        return text[start:start + length]\n",
    "    text = get_tercet(text, tercet)\n",
    "    if length==0: return text #if length=0 return whole chunk\n",
    "    return text[:length]"
   ]
  },
  {
   "cell_type": "code",
   "execution_count": 265,
   "metadata": {},
   "outputs": [
    {
     "data": {
      "text/plain": [
       "561095"
      ]
     },
     "execution_count": 265,
     "metadata": {},
     "output_type": "execute_result"
    }
   ],
   "source": [
    "len(text)"
   ]
  },
  {
   "cell_type": "code",
   "execution_count": 247,
   "metadata": {},
   "outputs": [],
   "source": [
    "a = 'ciaociao'"
   ]
  },
  {
   "cell_type": "code",
   "execution_count": 249,
   "metadata": {},
   "outputs": [
    {
     "data": {
      "text/plain": [
       "'cia'"
      ]
     },
     "execution_count": 249,
     "metadata": {},
     "output_type": "execute_result"
    }
   ],
   "source": [
    "a[:3]"
   ]
  },
  {
   "cell_type": "code",
   "execution_count": 248,
   "metadata": {},
   "outputs": [
    {
     "data": {
      "text/plain": [
       "'ociao'"
      ]
     },
     "execution_count": 248,
     "metadata": {},
     "output_type": "execute_result"
    }
   ],
   "source": [
    "a[3:]"
   ]
  },
  {
   "cell_type": "code",
   "execution_count": 370,
   "metadata": {},
   "outputs": [],
   "source": [
    "def create_train_val_test(path, train=0.7, val=0.2):\n",
    "    '''\n",
    "    Splits the text into 3 parts according to the given parameters.\n",
    "    Text chunks are taken evenly from the 3 books and sequentially (train/val/test)\n",
    "    '''\n",
    "    inf = get_text(PATH, book=1, length=0)\n",
    "    pur = get_text(PATH, book=2, length=0)\n",
    "    par = get_text(PATH, book=3, length=0)\n",
    "    train_text = inf[:int(len(inf)*train)] + '\\n\\n\\n\\n' + \\\n",
    "            pur[:int(len(pur)*train)] + '\\n\\n\\n\\n' + \\\n",
    "            par[:int(len(par)*train)]\n",
    "    val_text = inf[int(len(inf)*train):int(len(inf)*(train + val))] + '\\n\\n\\n\\n' + \\\n",
    "            pur[int(len(pur)*train):int(len(pur)*(train + val))] + '\\n\\n\\n\\n' + \\\n",
    "            par[int(len(par)*train):int(len(par)*(train + val))]\n",
    "    test_text = inf[int(len(inf)*(train + val)):] + '\\n\\n\\n\\n' + \\\n",
    "            pur[int(len(pur)*(train + val)):] + '\\n\\n\\n\\n' + \\\n",
    "            par[int(len(par)*(train + val)):]\n",
    "    texts = [train_text, val_text, test_text]\n",
    "    dirs = [MAINPATH + 'data/processed/trn/', \n",
    "            MAINPATH + '/data/processed/val/', \n",
    "            MAINPATH + '/data/processed/tst/']\n",
    "    files = ['trn.txt','val.txt','tst.txt']\n",
    "    for text, path, file in zip(texts, dirs, files):\n",
    "        if not os.path.exists(path):\n",
    "            os.makedirs(path)\n",
    "        with open(path+file,'w') as f:\n",
    "            f.write(text)    "
   ]
  },
  {
   "cell_type": "code",
   "execution_count": 371,
   "metadata": {},
   "outputs": [],
   "source": [
    "create_train_val_test(PATH)"
   ]
  },
  {
   "cell_type": "code",
   "execution_count": 356,
   "metadata": {},
   "outputs": [],
   "source": [
    "inf = get_text(PATH, book=1, length=0)"
   ]
  },
  {
   "cell_type": "code",
   "execution_count": 357,
   "metadata": {},
   "outputs": [
    {
     "data": {
      "text/plain": [
       "532366"
      ]
     },
     "execution_count": 357,
     "metadata": {},
     "output_type": "execute_result"
    }
   ],
   "source": [
    "len(inf)"
   ]
  },
  {
   "cell_type": "code",
   "execution_count": 358,
   "metadata": {},
   "outputs": [
    {
     "data": {
      "text/plain": [
       "561095"
      ]
     },
     "execution_count": 358,
     "metadata": {},
     "output_type": "execute_result"
    }
   ],
   "source": [
    "len(text)"
   ]
  },
  {
   "cell_type": "code",
   "execution_count": null,
   "metadata": {},
   "outputs": [],
   "source": []
  }
 ],
 "metadata": {
  "kernelspec": {
   "display_name": "Python 3",
   "language": "python",
   "name": "python3"
  },
  "language_info": {
   "codemirror_mode": {
    "name": "ipython",
    "version": 3
   },
   "file_extension": ".py",
   "mimetype": "text/x-python",
   "name": "python",
   "nbconvert_exporter": "python",
   "pygments_lexer": "ipython3",
   "version": "3.6.4"
  }
 },
 "nbformat": 4,
 "nbformat_minor": 2
}
